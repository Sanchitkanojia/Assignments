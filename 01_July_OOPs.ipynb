{
 "cells": [
  {
   "cell_type": "markdown",
   "id": "developing-sterling",
   "metadata": {},
   "source": [
    "<b>Number 1 - \n",
    "- Question -\n",
    "> What is the primary goal of Object-Oriented Programming (OOP)?\n",
    "- Answer - \n",
    "> The major goal of object - oriented programming is  \n",
    "\n",
    "1. Speed  \n",
    "    \n",
    "2. Reuse \n",
    "    \n",
    "3. User - interface \n",
    "    \n",
    "4. Top - down program development.\n",
    "    \n",
    "Explanation: Goals of object-oriented programming language : \n",
    "1. Adaptability - \n",
    "means the software may run on different generations and grows over a long lifetime. \n",
    "\n",
    "2. To reuse the code in which child classes uses the properties of the base class. \n",
    "\n",
    "3. To hold entire data into a single object such that it would be easy to pass this to other methods and objects. \n",
    "\n",
    "4.  Multiprocessing is also in object-oriented programming. \n",
    "\n",
    "5. Binding of data to avoid data loss. \n",
    "\n",
    "6. Robustness - it means complex programs should operate correctly."
   ]
  },
  {
   "cell_type": "markdown",
   "id": "67ad5069",
   "metadata": {},
   "source": [
    "<b>-----------------------------------------------------------------------------------------------------------------------------------------------------------------------------------------------"
   ]
  },
  {
   "cell_type": "markdown",
   "id": "signal-combine",
   "metadata": {},
   "source": [
    "<b>Number 2 - \n",
    "- Question -\n",
    "> What is an object in Python?\n",
    "\n",
    "- Answer - An Object is an instance of a Class. A class is like a blueprint while an instance is a copy of the class with actual values. Python is an object-oriented programming language that stresses objects i.e. it mainly emphasizes functions."
   ]
  },
  {
   "cell_type": "markdown",
   "id": "99145f78",
   "metadata": {},
   "source": [
    "<b>-----------------------------------------------------------------------------------------------------------------------------------------------------------------------------------------------"
   ]
  },
  {
   "cell_type": "markdown",
   "id": "urban-category",
   "metadata": {},
   "source": [
    "<b>Number 3 - \n",
    "- Question -\n",
    ">   What is a class in Python?\n",
    "- Answer -    \n",
    "A class is a user-defined blueprint or prototype from which objects are created. Classes provide a means of bundling data and functionality together. Creating a new class creates a new type of object, allowing new instances of that type to be made."
   ]
  },
  {
   "cell_type": "markdown",
   "id": "78e89a84",
   "metadata": {},
   "source": [
    "<b>-----------------------------------------------------------------------------------------------------------------------------------------------------------------------------------------------"
   ]
  },
  {
   "cell_type": "markdown",
   "id": "visible-cotton",
   "metadata": {},
   "source": [
    "<b>Number 4 - \n",
    "- Question - \n",
    "> What are attributes and methods in a class?\n",
    " \n",
    "- Answer -\n",
    "> - Class attributes are the attributes that belong to the class itself rather than to a particular object. They store information specific to each object created from the class.\n",
    "\n",
    "In other words, these attributes do not belong to a specific object, whereas it belongs to the class itself. Therefore, if one of the objects changes the value of this attribute, it will be changed for all the other objects.\n",
    "    \n",
    "- Methods:\n",
    "Methods are functions defined within a class that define the behavior or actions that objects of the class can perform. They represent the actions or operations that can be performed on objects.\n",
    "\n"
   ]
  },
  {
   "cell_type": "markdown",
   "id": "fbf766dd",
   "metadata": {},
   "source": [
    "<b>-----------------------------------------------------------------------------------------------------------------------------------------------------------------------------------------------"
   ]
  },
  {
   "cell_type": "markdown",
   "id": "continued-obligation",
   "metadata": {},
   "source": [
    "<b>Number 5 - \n",
    "- Question -\n",
    "> What is the difference between class variables and instance variables in Python?\n",
    "- Answer - \n",
    "- In Python, class variables are variables that are shared by all instances of a class. They are defined within the class, but outside of any methods or constructors. Class variables are associated with the class itself rather than with specific instances of the class.\n",
    "\n",
    "    \n",
    "- In Python, instance variables are defined within the methods of a class, typically within the __init__() method. Instance variables represent the unique state or data associated with each individual object (instance) of the class.\n",
    " "
   ]
  },
  {
   "cell_type": "markdown",
   "id": "07d1d015",
   "metadata": {},
   "source": [
    "<b>-----------------------------------------------------------------------------------------------------------------------------------------------------------------------------------------------"
   ]
  },
  {
   "cell_type": "markdown",
   "id": "organized-novel",
   "metadata": {},
   "source": [
    "<b>Number 6 - \n",
    "- Question -\n",
    "> What is the purpose of the self parameter in Python class methods?\n",
    "\n",
    "- Answer - \n",
    ">self represents the instance of the class. By using the “self”  we can access the attributes and methods of the class in python. It binds the attributes with the given arguments.\n",
    "\n",
    "    \n",
    "- self represents the instance of class. This handy keyword allows you to access variables, attributes, and methods of a defined class in Python. The self parameter doesn't have to be named “self,” as you can call it by any other name."
   ]
  },
  {
   "cell_type": "markdown",
   "id": "d5750997",
   "metadata": {},
   "source": [
    "<b>-----------------------------------------------------------------------------------------------------------------------------------------------------------------------------------------------"
   ]
  },
  {
   "cell_type": "markdown",
   "id": "hourly-lancaster",
   "metadata": {},
   "source": [
    "<b>Number 7 - \n",
    "- Question -\n",
    "> For a library management system, you have to design the \"Book\" class with OOP\n",
    "principles in mind. The “Book” class will have following attributes:\n",
    "    \n",
    "a. title: Represents the title of the book.\n",
    "\n",
    "b. author: Represents the author(s) of the book.\n",
    "    \n",
    "c. isbn: Represents the ISBN (International Standard Book Number) of the book.\n",
    "    \n",
    "d. publication_year: Represents the year of publication of the book.\n",
    "    \n",
    "e. available_copies: Represents the number of copies available for checkout.\n",
    "    \n",
    " - The class will also include the following methods:\n",
    "    \n",
    "a. check_out(self): Decrements the available copies by one if there are copies\n",
    "available for checkout.\n",
    "    \n",
    "b. return_book(self): Increments the available copies by one when a book is\n",
    "returned.\n",
    "    \n",
    "c. display_book_info(self): Displays the information about the book, including its\n",
    "attributes and the number of available copies.\n",
    "\n",
    "    \n",
    "- Answer - "
   ]
  },
  {
   "cell_type": "code",
   "execution_count": 1,
   "id": "e2a22dd0",
   "metadata": {},
   "outputs": [],
   "source": [
    "class Book:\n",
    "    def __init__(self, title, author, isbn, publication_year, available_copies):\n",
    "        self.title = title\n",
    "        self.author = author\n",
    "        self.isbn = isbn\n",
    "        self.publication_year = publication_year\n",
    "        self.available_copies = available_copies\n",
    "\n",
    "    def check_out(self):\n",
    "        if self.available_copies > 0:\n",
    "            self.available_copies -= 1\n",
    "            print(\"Book checked out successfully.\")\n",
    "        else:\n",
    "            print(\"No available copies for checkout.\")\n",
    "\n",
    "    def return_book(self):\n",
    "        self.available_copies += 1\n",
    "        print(\"Book returned successfully.\")\n",
    "\n",
    "    def display_book_info(self):\n",
    "        print(\"Book Information:\")\n",
    "        print(\"Title:\", self.title)\n",
    "        print(\"Author:\", self.author)\n",
    "        print(\"ISBN:\", self.isbn)\n",
    "        print(\"Publication Year:\", self.publication_year)\n",
    "        print(\"Available Copies:\", self.available_copies)\n",
    "\n"
   ]
  },
  {
   "cell_type": "code",
   "execution_count": 2,
   "id": "6d576c85",
   "metadata": {},
   "outputs": [
    {
     "name": "stdout",
     "output_type": "stream",
     "text": [
      "Book checked out successfully.\n",
      "Book returned successfully.\n",
      "Book checked out successfully.\n",
      "Book Information:\n",
      "Title: Mathematics\n",
      "Author: R.D. Sharma\n",
      "ISBN: 9780061122415\n",
      "Publication Year: 1988\n",
      "Available Copies: 2\n"
     ]
    }
   ],
   "source": [
    "# Create a Book object\n",
    "book1 = Book(\"Mathematics\",\"R.D. Sharma\", \"9780061122415\", 1988, 3)\n",
    "\n",
    "# Use the methods of the Book class\n",
    "book1.check_out()           # Output: Book checked out successfully.\n",
    "book1.return_book()         # Output: Book returned successfully.\n",
    "book1.check_out()           # Output: Book checked out successfully.\n",
    "book1.display_book_info()\n",
    "# Output:\n",
    "# Book Information:\n",
    "# Title: Mathematics\n",
    "# Author: R.D. Sharma\n",
    "# ISBN: 9780061122415\n",
    "# Publication Year: 1988\n",
    "# Available Copies: 2\n"
   ]
  },
  {
   "cell_type": "markdown",
   "id": "c7c9ac20",
   "metadata": {},
   "source": [
    "<b>-----------------------------------------------------------------------------------------------------------------------------------------------------------------------------------------------"
   ]
  },
  {
   "cell_type": "markdown",
   "id": "polyphonic-cartridge",
   "metadata": {},
   "source": [
    "<b>Number 8 - \n",
    "- Question -\n",
    "> For a ticket booking system, you have to design the \"Ticket\" class with OOP\n",
    "principles in mind. The “Ticket” class should have the following attributes:\n",
    "    \n",
    "a. ticket_id: Represents the unique identifier for the ticket.\n",
    "    \n",
    "b. event_name: Represents the name of the event.\n",
    "    \n",
    "c. event_date: Represents the date of the event.\n",
    "    \n",
    "d. venue: Represents the venue of the event.\n",
    "    \n",
    "e. seat_number: Represents the seat number associated with the ticket.\n",
    "    \n",
    "f. price: Represents the price of the ticket.\n",
    "    \n",
    "g. is_reserved: Represents the reservation status of the ticket.\n",
    "    \n",
    " - The class also includes the following methods:\n",
    "    \n",
    "a. reserve_ticket(self): Marks the ticket as reserved if it is not already reserved.\n",
    "    \n",
    "b. cancel_reservation(self): Cancels the reservation of the ticket if it is already\n",
    "reserved.\n",
    "    \n",
    "c. display_ticket_info(self): Displays the information about the ticket, including its\n",
    "attributes and reservation status.\n",
    "    \n",
    "- Answer- "
   ]
  },
  {
   "cell_type": "code",
   "execution_count": 4,
   "id": "febdcab7",
   "metadata": {},
   "outputs": [],
   "source": [
    "class Ticket:\n",
    "    def __init__(self, ticket_id, event_name, event_date, venue, seat_number, price):\n",
    "        self.ticket_id = ticket_id\n",
    "        self.event_name = event_name\n",
    "        self.event_date = event_date\n",
    "        self.venue = venue\n",
    "        self.seat_number = seat_number\n",
    "        self.price = price\n",
    "        self.is_reserved = False\n",
    "\n",
    "    def reserve_ticket(self):\n",
    "        if self.is_reserved == False:\n",
    "            self.is_reserved = True\n",
    "            print(\"Ticket reserved successfully.\")\n",
    "        else:\n",
    "            print(\"Ticket is already reserved.\")\n",
    "\n",
    "    def cancel_reservation(self):\n",
    "        if self.is_reserved:\n",
    "            self.is_reserved = False\n",
    "            print(\"Reservation canceled successfully.\")\n",
    "        else:\n",
    "            print(\"Ticket is not reserved.\")\n",
    "\n",
    "    def display_ticket_info(self):\n",
    "        print(\"Ticket Information:\")\n",
    "        print(\"Ticket ID:\", self.ticket_id)\n",
    "        print(\"Event Name:\", self.event_name)\n",
    "        print(\"Event Date:\", self.event_date)\n",
    "        print(\"Venue:\", self.venue)\n",
    "        print(\"Seat Number:\", self.seat_number)\n",
    "        print(\"Price:\", self.price)\n",
    "        print(\"Reservation Status:\", \"Reserved\" if self.is_reserved else \"Not Reserved\")\n"
   ]
  },
  {
   "cell_type": "code",
   "execution_count": 5,
   "id": "44ef7136",
   "metadata": {},
   "outputs": [
    {
     "name": "stdout",
     "output_type": "stream",
     "text": [
      "Ticket reserved successfully.\n",
      "Reservation canceled successfully.\n",
      "Ticket reserved successfully.\n",
      "Ticket Information:\n",
      "Ticket ID: 1\n",
      "Event Name: Concert\n",
      "Event Date: 2023-07-20\n",
      "Venue: ABC Stadium\n",
      "Seat Number: A1\n",
      "Price: 100.0\n",
      "Reservation Status: Reserved\n"
     ]
    }
   ],
   "source": [
    "# Create a Ticket object\n",
    "ticket1 = Ticket(1, \"Concert\", \"2023-07-20\", \"ABC Stadium\", \"A1\", 100.0)\n",
    "\n",
    "# Use the methods of the Ticket class\n",
    "ticket1.reserve_ticket()         # Output: Ticket reserved successfully.\n",
    "ticket1.cancel_reservation()     # Output: Reservation canceled successfully.\n",
    "ticket1.reserve_ticket()         # Output: Ticket reserved successfully.\n",
    "ticket1.display_ticket_info()\n",
    "# Output:\n",
    "# Ticket Information:\n",
    "# Ticket ID: 1\n",
    "# Event Name: Concert\n",
    "# Event Date: 2023-07-20\n",
    "# Venue: ABC Stadium\n",
    "# Seat Number: A1\n",
    "# Price: 100.0\n",
    "# Reservation Status: Reserved\n"
   ]
  },
  {
   "cell_type": "markdown",
   "id": "9553cf03",
   "metadata": {},
   "source": [
    "<b>-----------------------------------------------------------------------------------------------------------------------------------------------------------------------------------------------"
   ]
  },
  {
   "cell_type": "markdown",
   "id": "silent-judgment",
   "metadata": {},
   "source": [
    "<b>Number 9 - \n",
    "- Question -\n",
    "> You are creating a shopping cart for an e-commerce website. Using OOP to model\n",
    "the \"ShoppingCart\" functionality the class should contain following attributes and\n",
    "methods:\n",
    "    \n",
    "a. items: Represents the list of items in the shopping cart.\n",
    "    \n",
    "The class also includes the following methods:\n",
    "    \n",
    "a. add_item(self, item): Adds an item to the shopping cart by appending it to the\n",
    "list of items.\n",
    "    \n",
    "b. remove_item(self, item): Removes an item from the shopping cart if it exists in\n",
    "the list.\n",
    "    \n",
    "c. view_cart(self): Displays the items currently present in the shopping cart.\n",
    "    \n",
    "d. clear_cart(self): Clears all items from the shopping cart by reassigning an\n",
    "empty list to the items attribute.\n",
    "- Answer -\n",
    "\n"
   ]
  },
  {
   "cell_type": "code",
   "execution_count": 3,
   "id": "082c40a7",
   "metadata": {},
   "outputs": [],
   "source": [
    "class ShoppingCart:\n",
    "    def __init__(self):\n",
    "        self.items = []\n",
    "\n",
    "    def add_item(self, item):\n",
    "        self.items.append(item)\n",
    "\n",
    "    def remove_item(self, item):\n",
    "        if item in self.items:\n",
    "            self.items.remove(item)\n",
    "\n",
    "    def view_cart(self):\n",
    "        if len(self.items) > 0:\n",
    "            print(\"Items in the shopping cart:\")\n",
    "            for item in self.items:\n",
    "                print(item)\n",
    "        else:\n",
    "            print(\"The shopping cart is empty.\")\n",
    "\n",
    "    def clear_cart(self):\n",
    "        self.items = []\n"
   ]
  },
  {
   "cell_type": "code",
   "execution_count": 4,
   "id": "bc2a3138",
   "metadata": {},
   "outputs": [
    {
     "name": "stdout",
     "output_type": "stream",
     "text": [
      "Items in the shopping cart:\n",
      "Item 1\n",
      "Item 2\n",
      "Item 3\n",
      "Items in the shopping cart:\n",
      "Item 1\n",
      "Item 3\n",
      "The shopping cart is empty.\n"
     ]
    }
   ],
   "source": [
    "# Create a shopping cart object\n",
    "cart = ShoppingCart()\n",
    "\n",
    "# Add items to the cart\n",
    "cart.add_item(\"Item 1\")\n",
    "cart.add_item(\"Item 2\")\n",
    "cart.add_item(\"Item 3\")\n",
    "\n",
    "# View the contents of the cart\n",
    "cart.view_cart()\n",
    "\n",
    "# Remove an item from the cart\n",
    "cart.remove_item(\"Item 2\")\n",
    "\n",
    "# View the updated contents of the cart\n",
    "cart.view_cart()\n",
    "\n",
    "# Clear the cart\n",
    "cart.clear_cart()\n",
    "\n",
    "# View the cleared cart\n",
    "cart.view_cart()\n"
   ]
  },
  {
   "cell_type": "markdown",
   "id": "c0e4cebc",
   "metadata": {},
   "source": [
    "<b>-----------------------------------------------------------------------------------------------------------------------------------------------------------------------------------------------"
   ]
  },
  {
   "cell_type": "markdown",
   "id": "spiritual-sister",
   "metadata": {},
   "source": [
    "<b>Number 10 - \n",
    "- Question -\n",
    "> Imagine a school management system. You have to design the \"Student\" class using\n",
    "OOP concepts.The “Student” class has the following attributes:\n",
    "    \n",
    "a. name: Represents the name of the student.\n",
    "    \n",
    "b. age: Represents the age of the student.\n",
    "    \n",
    "c. grade: Represents the grade or class of the student.\n",
    "    \n",
    "d. student_id: Represents the unique identifier for the student.\n",
    "    \n",
    "e. attendance: Represents the attendance record of the student.\n",
    "    \n",
    "The class should also include the following methods:\n",
    "    \n",
    "a. update_attendance(self, date, status): Updates the attendance record of the\n",
    "student for a given date with the provided status (e.g., present or absent).\n",
    "    \n",
    "b. get_attendance(self): Returns the attendance record of the student.\n",
    "    \n",
    "c. get_average_attendance(self): Calculates and returns the average\n",
    "attendance percentage of the student based on their attendance record.\n",
    "- Answer - \n"
   ]
  },
  {
   "cell_type": "code",
   "execution_count": 7,
   "id": "a1e06d55",
   "metadata": {},
   "outputs": [],
   "source": [
    "class Student:\n",
    "    def __init__(self, name, age, grade, student_id):\n",
    "        self.name = name\n",
    "        self.age = age\n",
    "        self.grade = grade\n",
    "        self.student_id = student_id\n",
    "        self.attendance = {}\n",
    "\n",
    "    def update_attendance(self, date, status):\n",
    "        self.attendance[date] = status\n",
    "\n",
    "    def get_attendance(self):\n",
    "        return self.attendance\n",
    "\n",
    "    def get_average_attendance(self):\n",
    "        if len(self.attendance) > 0 :    \n",
    "            total_days = len(self.attendance)\n",
    "            present_days = sum(status == 'present' for status in self.attendance.values())\n",
    "            average_attendance = (present_days / total_days) * 100\n",
    "\n",
    "            return average_attendance\n",
    "        \n",
    "        else:\n",
    "            return 0.0"
   ]
  },
  {
   "cell_type": "code",
   "execution_count": 8,
   "id": "753603df",
   "metadata": {},
   "outputs": [
    {
     "name": "stdout",
     "output_type": "stream",
     "text": [
      "Attendance Record: {'2023-07-01': 'present', '2023-07-02': 'present', '2023-07-03': 'absent'}\n",
      "Average Attendance: 66.66666666666666\n"
     ]
    }
   ],
   "source": [
    "# Create a student object\n",
    "student1 = Student(\"John Doe\", 15, \"10th Grade\", \"S12345\")\n",
    "\n",
    "# Update attendance records\n",
    "student1.update_attendance(\"2023-07-01\", \"present\")\n",
    "student1.update_attendance(\"2023-07-02\", \"present\")\n",
    "student1.update_attendance(\"2023-07-03\", \"absent\")\n",
    "\n",
    "# Get the attendance record\n",
    "attendance_record = student1.get_attendance()\n",
    "print(\"Attendance Record:\", attendance_record)\n",
    "\n",
    "# Get the average attendance percentage\n",
    "average_attendance = student1.get_average_attendance()\n",
    "print(\"Average Attendance:\", average_attendance)\n"
   ]
  },
  {
   "cell_type": "markdown",
   "id": "e1f096f1",
   "metadata": {},
   "source": [
    "<b>-----------------------------------------------------------------------------------------------------------------------------------------------------------------------------------------------"
   ]
  },
  {
   "cell_type": "code",
   "execution_count": null,
   "id": "c70189fe",
   "metadata": {},
   "outputs": [],
   "source": []
  }
 ],
 "metadata": {
  "kernelspec": {
   "display_name": "Python 3 (ipykernel)",
   "language": "python",
   "name": "python3"
  },
  "language_info": {
   "codemirror_mode": {
    "name": "ipython",
    "version": 3
   },
   "file_extension": ".py",
   "mimetype": "text/x-python",
   "name": "python",
   "nbconvert_exporter": "python",
   "pygments_lexer": "ipython3",
   "version": "3.11.4"
  },
  "toc": {
   "base_numbering": 1,
   "nav_menu": {},
   "number_sections": true,
   "sideBar": true,
   "skip_h1_title": false,
   "title_cell": "Table of Contents",
   "title_sidebar": "Contents",
   "toc_cell": false,
   "toc_position": {},
   "toc_section_display": true,
   "toc_window_display": false
  }
 },
 "nbformat": 4,
 "nbformat_minor": 5
}
