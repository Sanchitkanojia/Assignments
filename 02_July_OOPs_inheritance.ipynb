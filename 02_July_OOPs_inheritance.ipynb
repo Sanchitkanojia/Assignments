{
 "cells": [
  {
   "cell_type": "markdown",
   "id": "developing-sterling",
   "metadata": {},
   "source": [
    "<b>Number 1 - \n",
    "- Question -\n",
    "> Explain what inheritance is in object-oriented programming and why it is used.\n",
    "- Answer - \n",
    "> The capability of a class to derive properties and characteristics from another class is called Inheritance. Inheritance is one of the most important features of Object-Oriented Programming. \n",
    "\n",
    "Inheritance is a feature or a process in which, new classes are created from the existing classes. The new class created is called “derived class” or “child class” and the existing class is known as the “base class” or “parent class”. The derived class now is said to be inherited from the base class.\n",
    "\n",
    "When we say derived class inherits the base class, it means, the derived class inherits all the properties of the base class, without changing the properties of base class and may add new features to its own. These new features in the derived class will not affect the base class. The derived class is the specialized class for the base class.\n",
    "    \n",
    "    \n",
    ">There are several reasons why inheritance is used in object-oriented programming:\n",
    "\n",
    "- Code reuse: \n",
    "    \n",
    "Inheritance allows developers to reuse the code written in the parent class, reducing redundancy and promoting efficient development. By inheriting from existing classes, developers can build upon the existing functionality and customize it for specific use cases without starting from scratch.\n",
    "\n",
    " - Modularity and organization: \n",
    "\n",
    "Inheritance helps in organizing and structuring code by establishing a hierarchy of classes. Classes with similar characteristics can be grouped under a common parent class, making the codebase more modular and manageable. It enhances code readability and comprehensibility.\n",
    "\n",
    " - Polymorphism: \n",
    "\n",
    "Inheritance is closely related to the concept of polymorphism, which allows objects of different classes\n",
    "to be treated as objects of a common parent class. Through inheritance, different classes can share a common interface, enabling them to be used interchangeably in certain contexts. This promotes flexibility and extensibility in the code.\n",
    "\n",
    " - Overriding and specialization: \n",
    "    \n",
    "Inheritance allows child classes to override or modify the behavior of inherited methods from the parent class. This enables customization and specialization of functionality based on specific requirements. Child classes can provide their own implementation of inherited methods, tailoring them to suit their unique needs."
   ]
  },
  {
   "cell_type": "markdown",
   "id": "67ad5069",
   "metadata": {},
   "source": [
    "<b>-----------------------------------------------------------------------------------------------------------------------------------------------------------------------------------------------"
   ]
  },
  {
   "cell_type": "markdown",
   "id": "signal-combine",
   "metadata": {},
   "source": [
    "<b>Number 2 - \n",
    "- Question -\n",
    "> Discuss the concept of single inheritance and multiple inheritance, highlighting their differences and advantages.\n",
    "\n",
    "- Answer \n",
    "    \n",
    "1. <b>Single Inheritance:<b> \n",
    "\n",
    "Single inheritance refers to the concept where a class can inherit from only one parent class. In other words, a child class can have only one direct parent class.\n",
    "    \n",
    "-<b>Advantages of Single Inheritance:<b>\n",
    "\n",
    "- Simplicity: Single inheritance provides a simpler and more straightforward model of inheritance compared to multiple inheritance. The class hierarchy is easier to understand and manage.\n",
    "    \n",
    "- Reduced complexity: \n",
    "    \n",
    "With single inheritance, there are no conflicts that arise from inheriting multiple versions of the same method from different parent classes.\n",
    "    \n",
    "- Encapsulation: \n",
    "    \n",
    "Single inheritance encourages encapsulation and maintains a clear relationship between the child and parent classes.\n",
    "    \n",
    "2. <b>Multiple Inheritance:<b>\n",
    "    \n",
    "Multiple inheritance allows a class to inherit from multiple parent classes. This means that a child class can inherit properties and behaviors from more than one parent class simultaneously. The child class incorporates the attributes and methods from all the parent classes, forming a more complex hierarchy.\n",
    "    \n",
    "-<b>Advantages of Multiple Inheritance:<b>\n",
    "- Code reuse: \n",
    "    \n",
    "Multiple inheritance enables the child class to inherit and reuse code from multiple parent classes, promoting code reuse to a greater extent. \n",
    "    \n",
    "- Modeling complex relationships: \n",
    "    \n",
    "Multiple inheritance allows the representation of complex relationships and interactions between different classes. It is particularly useful when a class needs to exhibit characteristics and behaviors from multiple domains or categories.\n",
    "\n",
    "- Enhanced flexibility: \n",
    "    \n",
    "By inheriting from multiple classes, a child class gains the ability to combine and adapt functionality from different sources, leading to greater flexibility in designing and implementing complex systems.\n",
    "    \n",
    "-<b>Differences between Single Inheritance and Multiple Inheritance:<b>\n",
    "\n",
    "- Inheritance Structure: \n",
    "    \n",
    "Single inheritance forms a linear hierarchy, while multiple inheritance creates a more complex, branching hierarchy.\n",
    "\n",
    "- Number of Parent Classes: \n",
    "    \n",
    "Single inheritance allows a class to have only one direct parent class, while multiple inheritance allows a class to have multiple direct parent classes.\n",
    "\n",
    "- Code Reuse: \n",
    "    \n",
    "Multiple inheritance provides more extensive code reuse opportunities compared to single inheritance, as a class can inherit from multiple sources of functionality.\n",
    "\n",
    "- Complexity: \n",
    "    \n",
    "Multiple inheritance introduces a higher level of complexity due to the potential for conflicts between inherited methods and attributes from different parent classes. In contrast, single inheritance keeps the inheritance structure simpler and more manageable."
   ]
  },
  {
   "cell_type": "markdown",
   "id": "99145f78",
   "metadata": {},
   "source": [
    "<b>-----------------------------------------------------------------------------------------------------------------------------------------------------------------------------------------------"
   ]
  },
  {
   "cell_type": "markdown",
   "id": "urban-category",
   "metadata": {},
   "source": [
    "<b>Number 3 - \n",
    "- Question -\n",
    "> Explain the terms \"base class\" and \"derived class\" in the context of inheritance.\n",
    "- Answer -    \n",
    "    \n",
    "<b>Base Class:<b>\n",
    "    \n",
    "base class, also known as a parent class or superclass, is the class from which other classes inherit properties and behaviors. It serves as a template or blueprint for creating derived classes. The base class defines common attributes, methods, and functionality that can be shared among multiple derived classes.\n",
    "    \n",
    "<b>Derived Class:<b>\n",
    "    \n",
    "A derived class, also known as a child class or subclass, is a class that inherits properties and behaviors from a base class. It extends or modifies the features provided by the base class to cater to its specific requirements. A derived class can add new attributes, methods, or override the inherited ones."
   ]
  },
  {
   "cell_type": "markdown",
   "id": "78e89a84",
   "metadata": {},
   "source": [
    "<b>-----------------------------------------------------------------------------------------------------------------------------------------------------------------------------------------------"
   ]
  },
  {
   "cell_type": "markdown",
   "id": "visible-cotton",
   "metadata": {},
   "source": [
    "<b>Number 4 - \n",
    "- Question - \n",
    "> What is the significance of the \"protected\" access modifier in inheritance? How does\n",
    "it differ from \"private\" and \"public\" modifiers?\n",
    " \n",
    "- Answer -\n",
    "> The \"protected\" access modifier plays a significant role in inheritance by providing a level of visibility and accessibility to class members (variables and methods) that is different from the \"private\" and \"public\" modifiers.\n",
    "\n",
    "<b>\"private\" Access Modifier:<b>\n",
    "    \n",
    "When a member is declared as \"private,\" it can only be accessed within the same class where it is defined. It is not visible to derived classes or any other classes outside the defining class. This encapsulation ensures that the member is accessible and modifiable only by the class itself, ensuring data privacy and encapsulation.\n",
    "\n",
    "<b>\"public\" Access Modifier:<b>\n",
    "    \n",
    "On the other hand, when a member is declared as \"public,\" it can be accessed by any code that has access to the class, whether it is within the same class, derived classes, or external classes. The member is visible and accessible to all parts of the program.\n",
    "\n",
    "<b>\"protected\" Access Modifier:<b>\n",
    "    \n",
    "The \"protected\" access modifier provides a middle ground between \"private\" and \"public.\" When a member is declared as \"protected,\" it is accessible within the same class, derived classes, and other classes within the same package or assembly (depending on the programming language).\n",
    "    \n",
    "\n",
    "<b> The significance of the \"protected\" access modifier in inheritance can be summarized as follows:<b>\n",
    "\n",
    "<b>a. Inheritance:<b>\n",
    "    \n",
    "A protected member of a base class can be inherited by a derived class. This means that the derived class can access and utilize the protected member as if it were its own, thereby inheriting and extending the functionality provided by the base class.\n",
    "\n",
    "<b>b. Code Reusability:<b> \n",
    "    \n",
    "The \"protected\" access modifier allows derived classes to access and reuse the protected members of their base class, promoting code reusability and preventing unnecessary duplication of code.\n",
    "\n",
    "<b>c. Encapsulation and Data Hiding:<b>\n",
    "    \n",
    "The \"protected\" access modifier helps in encapsulating the internal state of a class. It allows derived classes to access and modify the protected members while preventing direct access from other external classes. This ensures that the class's internal implementation details are hidden from external code, maintaining data integrity and encapsulation.\n",
    "\n",
    "    \n",
    "- In summary, the \"protected\" access modifier provides a level of visibility and accessibility that allows derived classes to inherit and extend the functionality of a base class, while also maintaining encapsulation and data privacy. It strikes a balance between the private and public modifiers, enabling controlled access to class members within the inheritance hierarchy."
   ]
  },
  {
   "cell_type": "markdown",
   "id": "fbf766dd",
   "metadata": {},
   "source": [
    "<b>-----------------------------------------------------------------------------------------------------------------------------------------------------------------------------------------------"
   ]
  },
  {
   "cell_type": "markdown",
   "id": "continued-obligation",
   "metadata": {},
   "source": [
    "<b>Number 5 - \n",
    "- Question -\n",
    "> What is the purpose of the \"super\" keyword in inheritance? Provide an example.\n",
    " \n",
    "- Answer -\n",
    ">In Python, the \"super\" keyword is used to refer to the superclass or parent class in the context of inheritance. It allows a derived class to call and invoke methods or access attributes of its immediate superclass. The \"super\" keyword is particularly useful when the derived class overrides a method from the superclass but still wants to use the functionality provided by the overridden method in the superclass.\n",
    "    \n",
    "- Example:"
   ]
  },
  {
   "cell_type": "code",
   "execution_count": 65,
   "id": "ddacf940",
   "metadata": {},
   "outputs": [],
   "source": [
    "class Vehicle:\n",
    "    def __init__(self, name):\n",
    "        self.name = name\n",
    "\n",
    "    def start(self):\n",
    "        print(f\"{self.name} is starting.\")\n",
    "\n",
    "\n",
    "class Car(Vehicle):\n",
    "    def __init__(self, name, color):\n",
    "        super().__init__(name)  # Invoking the superclass constructor\n",
    "        self.color = color\n",
    "\n",
    "    def start(self):\n",
    "        super().start()  # Invoking the start method of the superclass\n",
    "        print(f\"{self.name} is accelerating.\")\n"
   ]
  },
  {
   "cell_type": "code",
   "execution_count": 66,
   "id": "60c320f3",
   "metadata": {},
   "outputs": [
    {
     "name": "stdout",
     "output_type": "stream",
     "text": [
      "Honda Civic is starting.\n",
      "Honda Civic is accelerating.\n"
     ]
    }
   ],
   "source": [
    "# Example usage:\n",
    "my_car = Car(\"Honda Civic\", \"Red\")\n",
    "my_car.start()\n"
   ]
  },
  {
   "cell_type": "markdown",
   "id": "07d1d015",
   "metadata": {},
   "source": [
    "<b>-----------------------------------------------------------------------------------------------------------------------------------------------------------------------------------------------"
   ]
  },
  {
   "cell_type": "markdown",
   "id": "organized-novel",
   "metadata": {},
   "source": [
    "<b>Number 6 - \n",
    "- Question -\n",
    "> Create a base class called \"Vehicle\" with attributes like \"make\", \"model\", and \"year\".\n",
    "Then, create a derived class called \"Car\" that inherits from \"Vehicle\" and adds an\n",
    "attribute called \"fuel_type\". Implement appropriate methods in both classes.\n",
    "\n",
    "- Answer - \n"
   ]
  },
  {
   "cell_type": "code",
   "execution_count": 67,
   "id": "e14b9c92",
   "metadata": {},
   "outputs": [],
   "source": [
    "class Vehicle:\n",
    "    def __init__(self, make, model, year):\n",
    "        self.make = make\n",
    "        self.model = model\n",
    "        self.year = year\n",
    "\n",
    "    def display_info(self):\n",
    "        print(f\"Make: {self.make}\")\n",
    "        print(f\"Model: {self.model}\")\n",
    "        print(f\"Year: {self.year}\")\n",
    "\n",
    "\n",
    "class Car(Vehicle):\n",
    "    def __init__(self, make, model, year, fuel_type):\n",
    "        super().__init__(make, model, year)\n",
    "        self.fuel_type = fuel_type\n",
    "\n",
    "    def display_info(self):\n",
    "        super().display_info()\n",
    "        print(f\"Fuel Type: {self.fuel_type}\")\n"
   ]
  },
  {
   "cell_type": "code",
   "execution_count": 68,
   "id": "f62b3dad",
   "metadata": {},
   "outputs": [
    {
     "name": "stdout",
     "output_type": "stream",
     "text": [
      "Make: Honda\n",
      "Model: Civic\n",
      "Year: 2022\n",
      "\n",
      "Make: Toyota\n",
      "Model: Knight Club\n",
      "Year: 2021\n",
      "Fuel Type: Gasoline\n"
     ]
    }
   ],
   "source": [
    "# Example usage:\n",
    "vehicle = Vehicle(\"Honda\", \"Civic\", 2022)\n",
    "vehicle.display_info()\n",
    " \n",
    "print(\"\")\n",
    "\n",
    "car = Car(\"Toyota\", \"Knight Club\", 2021, \"Gasoline\")\n",
    "car.display_info()"
   ]
  },
  {
   "cell_type": "markdown",
   "id": "d5750997",
   "metadata": {},
   "source": [
    "<b>-----------------------------------------------------------------------------------------------------------------------------------------------------------------------------------------------"
   ]
  },
  {
   "cell_type": "markdown",
   "id": "hourly-lancaster",
   "metadata": {},
   "source": [
    "<b>Number 7 - \n",
    "- Question -\n",
    "> Create a base class called \"Employee\" with attributes like \"name\" and \"salary.\"\n",
    "Derive two classes, \"Manager\" and \"Developer,\" from \"Employee.\" Add an additional\n",
    "attribute called \"department\" for the \"Manager\" class and \"programming_language\"\n",
    "for the \"Developer\" class.\n",
    "    \n",
    "- Answer - "
   ]
  },
  {
   "cell_type": "code",
   "execution_count": 69,
   "id": "e2a22dd0",
   "metadata": {},
   "outputs": [],
   "source": [
    "class Employee:\n",
    "    def __init__(self, name, salary):\n",
    "        self.name = name\n",
    "        self.salary = salary\n",
    "\n",
    "    def display_info(self):\n",
    "        print(f\"Name: {self.name}\")\n",
    "        print(f\"Salary: {self.salary}\")\n",
    "\n",
    "\n",
    "class Manager(Employee):\n",
    "    def __init__(self, name, salary, department):\n",
    "        super().__init__(name, salary)\n",
    "        self.department = department\n",
    "\n",
    "    def display_info(self):\n",
    "        super().display_info()\n",
    "        print(f\"Department: {self.department}\")\n",
    "\n",
    "\n",
    "class Developer(Employee):\n",
    "    def __init__(self, name, salary, programming_language):\n",
    "        super().__init__(name, salary)\n",
    "        self.programming_language = programming_language\n",
    "\n",
    "    def display_info(self):\n",
    "        super().display_info()\n",
    "        print(f\"Programming Language: {self.programming_language}\")\n"
   ]
  },
  {
   "cell_type": "code",
   "execution_count": 70,
   "id": "6d576c85",
   "metadata": {},
   "outputs": [
    {
     "name": "stdout",
     "output_type": "stream",
     "text": [
      "Name: John Doe\n",
      "Salary: 50000\n",
      "\n",
      "Name: Jane Smith\n",
      "Salary: 80000\n",
      "Department: IT\n",
      "\n",
      "Name: Michael Johnson\n",
      "Salary: 60000\n",
      "Programming Language: Python\n"
     ]
    }
   ],
   "source": [
    "# Example usage:\n",
    "employee = Employee(\"John Doe\", 50000)\n",
    "employee.display_info()\n",
    "\n",
    "print(\"\")\n",
    "\n",
    "manager = Manager(\"Jane Smith\", 80000, \"IT\")\n",
    "manager.display_info()\n",
    "\n",
    "print(\"\")\n",
    "\n",
    "developer = Developer(\"Michael Johnson\", 60000, \"Python\")\n",
    "developer.display_info()"
   ]
  },
  {
   "cell_type": "markdown",
   "id": "c7c9ac20",
   "metadata": {},
   "source": [
    "<b>-----------------------------------------------------------------------------------------------------------------------------------------------------------------------------------------------"
   ]
  },
  {
   "cell_type": "markdown",
   "id": "polyphonic-cartridge",
   "metadata": {},
   "source": [
    "<b>Number 8 - \n",
    "- Question -\n",
    "> Design a base class called \"Shape\" with attributes like \"colour\" and \"border_width.\"\n",
    "Create derived classes, \"Rectangle\" and \"Circle,\" that inherit from \"Shape\" and add\n",
    "specific attributes like \"length\" and \"width\" for the \"Rectangle\" class and \"radius\" for\n",
    "the \"Circle\" class.     \n",
    "- Answer- "
   ]
  },
  {
   "cell_type": "code",
   "execution_count": 71,
   "id": "febdcab7",
   "metadata": {},
   "outputs": [],
   "source": [
    "class Shape:\n",
    "    def __init__(self, colour, border_width):\n",
    "        self.colour = colour\n",
    "        self.border_width = border_width\n",
    "\n",
    "    def display_info(self):\n",
    "        print(f\"Colour: {self.colour}\")\n",
    "        print(f\"Border Width: {self.border_width}\")\n",
    "\n",
    "\n",
    "class Rectangle(Shape):\n",
    "    def __init__(self, colour, border_width, length, width):\n",
    "        super().__init__(colour, border_width)\n",
    "        self.length = length\n",
    "        self.width = width\n",
    "\n",
    "    def display_info(self):\n",
    "        super().display_info()\n",
    "        print(f\"Length: {self.length}\")\n",
    "        print(f\"Width: {self.width}\")\n",
    "\n",
    "\n",
    "class Circle(Shape):\n",
    "    def __init__(self, colour, border_width, radius):\n",
    "        super().__init__(colour, border_width)\n",
    "        self.radius = radius\n",
    "\n",
    "    def display_info(self):\n",
    "        super().display_info()\n",
    "        print(f\"Radius: {self.radius}\")\n"
   ]
  },
  {
   "cell_type": "code",
   "execution_count": 72,
   "id": "44ef7136",
   "metadata": {},
   "outputs": [
    {
     "name": "stdout",
     "output_type": "stream",
     "text": [
      "Colour: Red\n",
      "Border Width: 2\n",
      "\n",
      "Colour: Blue\n",
      "Border Width: 1\n",
      "Length: 5\n",
      "Width: 3\n",
      "\n",
      "Colour: Green\n",
      "Border Width: 1.5\n",
      "Radius: 7\n"
     ]
    }
   ],
   "source": [
    "# Example usage:\n",
    "shape = Shape(\"Red\", 2)\n",
    "shape.display_info()\n",
    "\n",
    "print(\"\")\n",
    "\n",
    "rectangle = Rectangle(\"Blue\", 1, 5, 3)\n",
    "rectangle.display_info()\n",
    "\n",
    "print(\"\")\n",
    "\n",
    "circle = Circle(\"Green\", 1.5, 7)\n",
    "circle.display_info()\n"
   ]
  },
  {
   "cell_type": "markdown",
   "id": "9553cf03",
   "metadata": {},
   "source": [
    "<b>-----------------------------------------------------------------------------------------------------------------------------------------------------------------------------------------------"
   ]
  },
  {
   "cell_type": "markdown",
   "id": "silent-judgment",
   "metadata": {},
   "source": [
    "<b>Number 9 - \n",
    "- Question -\n",
    "> Create a base class called \"Device\" with attributes like \"brand\" and \"model.\" Derive\n",
    "two classes, \"Phone\" and \"Tablet,\" from \"Device.\" Add specific attributes like\n",
    "\"screen_size\" for the \"Phone\" class and \"battery_capacity\" for the \"Tablet\" class.\n",
    "- Answer -"
   ]
  },
  {
   "cell_type": "code",
   "execution_count": 60,
   "id": "082c40a7",
   "metadata": {},
   "outputs": [],
   "source": [
    "class Device:\n",
    "    def __init__(self, brand, model):\n",
    "        self.brand = brand\n",
    "        self.model = model\n",
    "\n",
    "    def display_info(self):\n",
    "        print(f\"Brand: {self.brand}\")\n",
    "        print(f\"Model: {self.model}\")\n",
    "\n",
    "\n",
    "class Phone(Device):\n",
    "    def __init__(self, brand, model, screen_size):\n",
    "        super().__init__(brand, model)\n",
    "        self.screen_size = screen_size\n",
    "\n",
    "    def display_info(self):\n",
    "        super().display_info()\n",
    "        print(f\"Screen Size: {self.screen_size}\")\n",
    "\n",
    "\n",
    "class Tablet(Device):\n",
    "    def __init__(self, brand, model, battery_capacity):\n",
    "        super().__init__(brand, model)\n",
    "        self.battery_capacity = battery_capacity\n",
    "\n",
    "    def display_info(self):\n",
    "        super().display_info()\n",
    "        print(f\"Battery Capacity: {self.battery_capacity}\")"
   ]
  },
  {
   "cell_type": "code",
   "execution_count": 63,
   "id": "bc2a3138",
   "metadata": {},
   "outputs": [
    {
     "name": "stdout",
     "output_type": "stream",
     "text": [
      "Brand: Samsung\n",
      "Model: Galaxy S21\n",
      "\n",
      "Brand: Apple\n",
      "Model: iPhone 12\n",
      "Screen Size: 6.1 inches\n",
      "\n",
      "Brand: Microsoft\n",
      "Model: Surface Pro 7\n",
      "Battery Capacity: 50 MAh\n"
     ]
    }
   ],
   "source": [
    "# Example usage:\n",
    "device = Device(\"Samsung\", \"Galaxy S21\")\n",
    "device.display_info()\n",
    "\n",
    "print(\"\")\n",
    "\n",
    "phone = Phone(\"Apple\", \"iPhone 12\", \"6.1 inches\")\n",
    "phone.display_info()\n",
    "\n",
    "print(\"\")\n",
    "\n",
    "tablet = Tablet(\"Microsoft\", \"Surface Pro 7\", \"50 MAh\")\n",
    "tablet.display_info()\n"
   ]
  },
  {
   "cell_type": "markdown",
   "id": "c0e4cebc",
   "metadata": {},
   "source": [
    "<b>-----------------------------------------------------------------------------------------------------------------------------------------------------------------------------------------------"
   ]
  },
  {
   "cell_type": "markdown",
   "id": "spiritual-sister",
   "metadata": {},
   "source": [
    "<b>Number 10 - \n",
    "- Question -\n",
    "> Create a base class called \"BankAccount\" with attributes like \"account_number\" and\n",
    "\"balance.\" Derive two classes, \"SavingsAccount\" and \"CheckingAccount,\" from\n",
    "\"BankAccount.\" Add specific methods like \"calculate_interest\" for the\n",
    "\"SavingsAccount\" class and \"deduct_fees\" for the \"CheckingAccount\" class.\n",
    "- Answer - \n"
   ]
  },
  {
   "cell_type": "code",
   "execution_count": 75,
   "id": "a1e06d55",
   "metadata": {},
   "outputs": [],
   "source": [
    "class BankAccount:\n",
    "    def __init__(self, account_number, balance):\n",
    "        self.account_number = account_number\n",
    "        self.balance = balance\n",
    "\n",
    "    def display_info(self):\n",
    "        print(f\"Account Number: {self.account_number}\")\n",
    "        print(f\"Balance: {self.balance}\")\n",
    "\n",
    "\n",
    "class SavingsAccount(BankAccount):\n",
    "    def __init__(self, account_number, balance):\n",
    "        super().__init__(account_number, balance)\n",
    "\n",
    "    def calculate_interest(self, interest_rate):\n",
    "        interest = self.balance * (interest_rate / 100)\n",
    "        self.balance += interest\n",
    "        print(f\"Interest calculated: {interest}\")\n",
    "        print(f\"Updated Balance: {self.balance}\")\n",
    "\n",
    "\n",
    "class CheckingAccount(BankAccount):\n",
    "    def __init__(self, account_number, balance):\n",
    "        super().__init__(account_number, balance)\n",
    "\n",
    "    def deduct_fees(self, fee_amount):\n",
    "        self.balance -= fee_amount\n",
    "        print(f\"Fees deducted: {fee_amount}\")\n",
    "        print(f\"Updated Balance: {self.balance}\")\n",
    "        "
   ]
  },
  {
   "cell_type": "code",
   "execution_count": 76,
   "id": "753603df",
   "metadata": {},
   "outputs": [
    {
     "name": "stdout",
     "output_type": "stream",
     "text": [
      "Account Number: 1234567890\n",
      "Balance: 1000\n",
      "\n",
      "Account Number: 9876543210\n",
      "Balance: 2000\n",
      "Interest calculated: 50.0\n",
      "Updated Balance: 2050.0\n",
      "\n",
      "Account Number: 5555555555\n",
      "Balance: 1500\n",
      "Fees deducted: 20\n",
      "Updated Balance: 1480\n"
     ]
    }
   ],
   "source": [
    "# Example usage:\n",
    "account1 = BankAccount(\"1234567890\", 1000)\n",
    "account1.display_info()\n",
    "\n",
    "print(\"\")\n",
    "\n",
    "savings_account = SavingsAccount(\"9876543210\", 2000)\n",
    "savings_account.display_info()\n",
    "savings_account.calculate_interest(2.5)\n",
    "\n",
    "print(\"\")\n",
    "\n",
    "checking_account = CheckingAccount(\"5555555555\", 1500)\n",
    "checking_account.display_info()\n",
    "checking_account.deduct_fees(20)"
   ]
  },
  {
   "cell_type": "markdown",
   "id": "e1f096f1",
   "metadata": {},
   "source": [
    "<b>-----------------------------------------------------------------------------------------------------------------------------------------------------------------------------------------------"
   ]
  },
  {
   "cell_type": "code",
   "execution_count": null,
   "id": "c70189fe",
   "metadata": {},
   "outputs": [],
   "source": []
  }
 ],
 "metadata": {
  "kernelspec": {
   "display_name": "Python 3 (ipykernel)",
   "language": "python",
   "name": "python3"
  },
  "language_info": {
   "codemirror_mode": {
    "name": "ipython",
    "version": 3
   },
   "file_extension": ".py",
   "mimetype": "text/x-python",
   "name": "python",
   "nbconvert_exporter": "python",
   "pygments_lexer": "ipython3",
   "version": "3.11.4"
  },
  "toc": {
   "base_numbering": 1,
   "nav_menu": {},
   "number_sections": true,
   "sideBar": true,
   "skip_h1_title": false,
   "title_cell": "Table of Contents",
   "title_sidebar": "Contents",
   "toc_cell": false,
   "toc_position": {},
   "toc_section_display": true,
   "toc_window_display": false
  }
 },
 "nbformat": 4,
 "nbformat_minor": 5
}
